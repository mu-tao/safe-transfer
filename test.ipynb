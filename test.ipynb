{
 "cells": [
  {
   "cell_type": "code",
   "execution_count": 53,
   "metadata": {},
   "outputs": [
    {
     "name": "stdout",
     "output_type": "stream",
     "text": [
      "False\n"
     ]
    }
   ],
   "source": [
    "\n",
    "import json\n",
    "import bittensor as bt\n",
    "from binascii import unhexlify\n",
    "with open('my_transfer.json', 'r') as file:\n",
    "    transaction_data = json.loads(file.read())\n",
    "    \n",
    "keypair = bt.Keypair(transaction_data['coldkey_ss58'])\n",
    "print( keypair.verify(transaction_data['extrinsic_data'].encode(), unhexlify(transaction_data['signature'].encode())) )\n",
    "\n"
   ]
  },
  {
   "cell_type": "code",
   "execution_count": null,
   "metadata": {},
   "outputs": [],
   "source": []
  }
 ],
 "metadata": {
  "language_info": {
   "name": "python"
  }
 },
 "nbformat": 4,
 "nbformat_minor": 2
}
